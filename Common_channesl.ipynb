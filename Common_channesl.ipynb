{
 "cells": [
  {
   "cell_type": "code",
   "execution_count": 3,
   "id": "01cacf95-1704-445c-a78a-1afa19eb660c",
   "metadata": {},
   "outputs": [],
   "source": [
    "import os\n",
    "import sys\n",
    "import random\n",
    "import mne\n",
    "import numpy as np\n",
    "import matplotlib.pyplot as plt\n",
    "import torch\n",
    "import torch.nn as nn\n",
    "import torch.nn.functional as F\n",
    "import torch.optim as optim\n",
    "from torch.utils.data import Dataset, DataLoader, TensorDataset\n",
    "from pytorch_metric_learning import losses\n",
    "from torchsummary import summary\n",
    "\n",
    "from sklearn.preprocessing import LabelEncoder, OneHotEncoder, LabelBinarizer, normalize\n",
    "from sklearn.model_selection import train_test_split\n",
    "from sklearn.tree import DecisionTreeClassifier\n",
    "from sklearn.decomposition import PCA\n",
    "from imblearn.over_sampling import SMOTE\n",
    "from sklearn.model_selection import KFold, StratifiedKFold\n",
    "from scipy.stats import mode\n",
    "\n",
    "import pandas as pd\n",
    "import logging\n",
    "import time\n",
    "import math\n",
    "import json\n",
    "from collections import Counter"
   ]
  },
  {
   "cell_type": "code",
   "execution_count": 4,
   "id": "c66d75b5-8974-471c-8134-02882ccfe3d9",
   "metadata": {},
   "outputs": [],
   "source": [
    "def get_names( ch_num, l ):\n",
    "    name_list = []\n",
    "    for i in range(ch_num):\n",
    "        name_list.append( l[i]['name'][0] )\n",
    "        # print(l[i]['name'][0])\n",
    "    return name_list\n",
    "\n",
    "\n",
    "def top_n_elements(lists, n=6):\n",
    "    # 创建一个 Counter 对象以统计所有子列表中的元素\n",
    "    overall_counter = Counter()\n",
    "    \n",
    "    # 遍历每个子列表并更新计数\n",
    "    for sublist in lists:\n",
    "        overall_counter.update(get_names(n, sublist))\n",
    "\n",
    "    # 获取前 n 名元素\n",
    "    top_elements_with_counts = overall_counter.most_common(n)\n",
    "\n",
    "    top_elements = [element for element, count in top_elements_with_counts]\n",
    "    counts = [count for element, count in top_elements_with_counts]\n",
    "    \n",
    "    return top_elements, counts"
   ]
  },
  {
   "cell_type": "code",
   "execution_count": 5,
   "id": "8bd2080c-8764-4414-9832-4a22efc57b43",
   "metadata": {},
   "outputs": [],
   "source": [
    "data_folder = 'E:\\\\EEG\\\\chb-mit-scalp-eeg-database-1.0.0'\n",
    "COMMON_CH_list = []\n",
    "\n",
    "for patient_index in range(1, 24+1):\n",
    "    PATIENT_TO_USE = 'chb'+str(patient_index).zfill(2)\n",
    "    with open(PATIENT_TO_USE+'_sel_ch_30iter_with_SMOTE.json', 'r') as json_file:\n",
    "        loaded_data = json.load(json_file)\n",
    "    COMMON_CH, _ = top_n_elements( loaded_data, 8 ) # 8 channels are acceptable\n",
    "    COMMON_CH_list.append( set(COMMON_CH) )"
   ]
  },
  {
   "cell_type": "code",
   "execution_count": 6,
   "id": "0f5c3e10-22ba-4f23-8fe7-323a94b95bba",
   "metadata": {},
   "outputs": [
    {
     "name": "stdout",
     "output_type": "stream",
     "text": [
      "{'P4-O2', 'P8-O2', 'P3-O1', 'C4-P4'}\n",
      "{'C4-P4', 'P4-O2', 'P3-O1'}\n",
      "{'P4-O2', 'P3-O1', 'C4-P4'}\n",
      "{'C4-P4'}\n",
      "{'C4-P4'}\n",
      "{'C4-P4'}\n",
      "{'C4-P4'}\n",
      "{'C4-P4'}\n",
      "set()\n",
      "set()\n",
      "set()\n",
      "set()\n",
      "set()\n",
      "set()\n",
      "set()\n",
      "set()\n",
      "set()\n",
      "set()\n",
      "set()\n",
      "set()\n",
      "set()\n",
      "set()\n",
      "set()\n",
      "set()\n"
     ]
    }
   ],
   "source": [
    "common_channels = COMMON_CH_list[0]\n",
    "for ch_set in COMMON_CH_list[1:]:\n",
    "    common_channels = common_channels.intersection( ch_set )\n",
    "    print( common_channels )\n",
    "\n",
    "print( common_channels)"
   ]
  },
  {
   "cell_type": "code",
   "execution_count": 7,
   "id": "e0bf2482-0799-42f3-9ab3-0584f95a4b52",
   "metadata": {},
   "outputs": [
    {
     "data": {
      "text/plain": [
       "[('P8-O2', 18),\n",
       " ('C3-P3', 18),\n",
       " ('P3-O1', 18),\n",
       " ('FZ-CZ', 17),\n",
       " ('C4-P4', 17),\n",
       " ('P4-O2', 17),\n",
       " ('CZ-PZ', 15),\n",
       " ('F3-C3', 14),\n",
       " ('P7-O1', 13),\n",
       " ('T7-P7', 10),\n",
       " ('F4-C4', 10),\n",
       " ('F7-T7', 6),\n",
       " ('FP2-F8', 5),\n",
       " ('F8-T8', 5),\n",
       " ('FP1-F3', 4),\n",
       " ('FP1-F7', 3),\n",
       " ('FP2-F4', 2)]"
      ]
     },
     "execution_count": 7,
     "metadata": {},
     "output_type": "execute_result"
    }
   ],
   "source": [
    "cnt = {}\n",
    "for com_chs in COMMON_CH_list:\n",
    "    for ch in list(com_chs):\n",
    "        if ch not in cnt:\n",
    "            cnt[ch] = 1\n",
    "        else:\n",
    "            cnt[ch] += 1\n",
    "\n",
    "sorted( cnt.items(), key=lambda x:x[1], reverse=True)"
   ]
  },
  {
   "cell_type": "code",
   "execution_count": 11,
   "id": "528ec231-0553-4f31-a46d-7aaaf664cf14",
   "metadata": {},
   "outputs": [
    {
     "name": "stdout",
     "output_type": "stream",
     "text": [
      "{'P8-O2', 'FZ-CZ', 'CZ-PZ', 'C4-P4', 'C3-P3', 'P3-O1', 'P4-O2'}\n",
      "{'P8-O2', 'F3-C3', 'C4-P4', 'P3-O1', 'P4-O2'}\n",
      "{'FZ-CZ', 'CZ-PZ', 'C4-P4', 'C3-P3', 'P3-O1', 'P4-O2'}\n",
      "{'P4-O2', 'P8-O2', 'P3-O1', 'C4-P4'}\n",
      "{'F3-C3', 'FZ-CZ', 'C4-P4', 'CZ-PZ', 'C3-P3'}\n",
      "{'F3-C3', 'C4-P4', 'CZ-PZ', 'C3-P3', 'P3-O1', 'P4-O2'}\n",
      "{'P8-O2', 'FZ-CZ', 'C4-P4', 'CZ-PZ', 'C3-P3', 'P3-O1', 'P4-O2'}\n",
      "{'F3-C3', 'FZ-CZ', 'C4-P4', 'CZ-PZ', 'C3-P3'}\n",
      "{'P8-O2', 'F3-C3', 'C4-P4', 'C3-P3', 'P3-O1', 'P4-O2'}\n",
      "{'P8-O2', 'F3-C3', 'FZ-CZ', 'CZ-PZ', 'P4-O2'}\n",
      "{'P8-O2', 'F3-C3', 'FZ-CZ', 'CZ-PZ', 'P3-O1', 'P4-O2'}\n",
      "{'P8-O2', 'P4-O2', 'P3-O1'}\n",
      "{'P8-O2', 'FZ-CZ', 'CZ-PZ', 'C4-P4', 'C3-P3', 'P3-O1', 'P4-O2'}\n",
      "{'P8-O2', 'FZ-CZ', 'C4-P4', 'C3-P3', 'P3-O1', 'P4-O2'}\n",
      "{'P8-O2', 'F3-C3', 'FZ-CZ', 'C4-P4', 'CZ-PZ', 'C3-P3', 'P3-O1'}\n",
      "{'P8-O2', 'F3-C3', 'FZ-CZ', 'C4-P4', 'C3-P3', 'P3-O1', 'P4-O2'}\n",
      "{'P8-O2', 'FZ-CZ', 'CZ-PZ', 'C4-P4', 'C3-P3', 'P3-O1', 'P4-O2'}\n",
      "{'P8-O2', 'F3-C3', 'FZ-CZ', 'C3-P3', 'P3-O1'}\n",
      "{'P8-O2'}\n",
      "{'C3-P3', 'F3-C3', 'FZ-CZ'}\n",
      "{'P8-O2', 'FZ-CZ', 'C4-P4', 'CZ-PZ', 'C3-P3', 'P3-O1', 'P4-O2'}\n",
      "{'P8-O2', 'F3-C3', 'FZ-CZ', 'CZ-PZ', 'C3-P3', 'P3-O1', 'P4-O2'}\n",
      "{'P8-O2', 'F3-C3', 'CZ-PZ', 'C4-P4', 'C3-P3', 'P3-O1', 'P4-O2'}\n",
      "{'F3-C3', 'FZ-CZ', 'C4-P4', 'CZ-PZ', 'C3-P3'}\n"
     ]
    }
   ],
   "source": [
    "chs_for_ind = set(['P3-O1', 'P8-O2', 'C3-P3', 'C4-P4', 'FZ-CZ', 'P4-O2', 'CZ-PZ', 'F3-C3'])\n",
    "\n",
    "for com_chs in COMMON_CH_list:\n",
    "    print( chs_for_ind.intersection(com_chs) )"
   ]
  },
  {
   "cell_type": "code",
   "execution_count": 10,
   "id": "a2a163c9-943e-43b4-9dc9-aa6e718a15c3",
   "metadata": {},
   "outputs": [
    {
     "data": {
      "text/plain": [
       "24"
      ]
     },
     "execution_count": 10,
     "metadata": {},
     "output_type": "execute_result"
    }
   ],
   "source": [
    "len( COMMON_CH_list )"
   ]
  }
 ],
 "metadata": {
  "kernelspec": {
   "display_name": "Pytorch_EEG",
   "language": "python",
   "name": "eeg_seizure"
  },
  "language_info": {
   "codemirror_mode": {
    "name": "ipython",
    "version": 3
   },
   "file_extension": ".py",
   "mimetype": "text/x-python",
   "name": "python",
   "nbconvert_exporter": "python",
   "pygments_lexer": "ipython3",
   "version": "3.12.4"
  }
 },
 "nbformat": 4,
 "nbformat_minor": 5
}
